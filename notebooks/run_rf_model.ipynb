{
 "cells": [
  {
   "cell_type": "code",
   "execution_count": null,
   "id": "50ca085e",
   "metadata": {},
   "outputs": [],
   "source": [
    "%load_ext blackcellmagic\n",
    "%matplotlib inline\n",
    "%config InlineBackend.figure_format = 'retina'\n",
    "\n",
    "import sys\n",
    "import os\n",
    "import pickle\n",
    "import numpy as np\n",
    "import pandas as pd\n",
    "import matplotlib.pyplot as plt"
   ]
  },
  {
   "cell_type": "markdown",
   "id": "e2509b84",
   "metadata": {},
   "source": [
    "# Build RF model to predict viral vs non-viral"
   ]
  },
  {
   "cell_type": "code",
   "execution_count": null,
   "id": "2b314705",
   "metadata": {},
   "outputs": [],
   "source": [
    "sys.path.insert(0, os.path.abspath(os.path.join(os.getcwd(), '..', 'src')))\n",
    "\n",
    "from utils import data_to_use, explain_col\n",
    "\n",
    "from model_rf import (\n",
    "    plot_roc,\n",
    "    plot_confusion_matrices,\n",
    "    get_standard_features,\n",
    "    build_rf_model,\n",
    "    get_feature_importances,\n",
    "    plot_feature_importances,\n",
    "    create_feature_sets,\n",
    "    model_new_feature_sets,\n",
    "    plot_feature_distributions\n",
    ")"
   ]
  },
  {
   "cell_type": "code",
   "execution_count": null,
   "id": "e20abb44",
   "metadata": {},
   "outputs": [],
   "source": [
    "train_test_data_folder = \"XXX\""
   ]
  },
  {
   "cell_type": "markdown",
   "id": "b75a38fe",
   "metadata": {},
   "source": [
    "Get full set of numerical and categorial features:"
   ]
  },
  {
   "cell_type": "code",
   "execution_count": null,
   "id": "b88ef3db",
   "metadata": {},
   "outputs": [],
   "source": [
    "num_cols_present, cat_cols_present = get_standard_features()"
   ]
  },
  {
   "cell_type": "markdown",
   "id": "64d8401e",
   "metadata": {},
   "source": [
    "Define pipeline:"
   ]
  },
  {
   "cell_type": "code",
   "execution_count": null,
   "id": "99b5c885",
   "metadata": {},
   "outputs": [],
   "source": [
    "def run_pipeline(pathogen):\n",
    "\n",
    "    # Build model using all features\n",
    "    (\n",
    "        local_preprocessor,\n",
    "        models_rf,\n",
    "        y_pred_prob_dict_rf,\n",
    "        roc_curve_values_rf,\n",
    "        y_test_dict_rf\n",
    "    ) = build_rf_model(\n",
    "        pathogen=pathogen, \n",
    "        train_test_data_folder=train_test_data_folder, \n",
    "        num_cols_present=num_cols_present, \n",
    "        cat_cols_present=cat_cols_present\n",
    "        )\n",
    "\n",
    "    plot_roc(roc_curve_values_rf, models_rf, pathogen, colors=[\"tab:red\", \"black\"])\n",
    "\n",
    "    # Get and plot importance of each feature\n",
    "    importance_df = get_feature_importances(\n",
    "        models_rf[\"true\"], local_preprocessor, pathogen\n",
    "    )\n",
    "    print(importance_df.head())\n",
    "    print(importance_df.tail())\n",
    "\n",
    "    plot_feature_importances(importance_df, pathogen)\n",
    "\n",
    "    # Plot distributions of top 12 important unique features\n",
    "    seen = set()\n",
    "    features_to_plot = [x for x in importance_df[\"Feature_clean\"].values if x not in seen and not seen.add(x)][:20]\n",
    "    plot_feature_distributions(features_to_plot, importance_df, pathogen)\n",
    "\n",
    "    # Create new models using feature subsets\n",
    "    feature_sets = create_feature_sets(importance_df, pathogen)\n",
    "    (\n",
    "        models_subset,\n",
    "        preprocessors_subset,\n",
    "        roc_curve_values_subset,\n",
    "        y_pred_prob_dict_subset,\n",
    "        y_test_dict_subset\n",
    "    ) = model_new_feature_sets(\n",
    "        feature_sets, pathogen, train_test_data_folder, num_cols_present, cat_cols_present\n",
    "    )\n",
    "\n",
    "    # Plot new prediction results using feature subsets\n",
    "    # colors = [\"red\", \"#3182bd\", \"#9ecae1\", \"#deebf7\", \"darkorange\", \"#31a354\", \"grey\"]\n",
    "    colors = [\"red\", \"#3182bd\", \"#9ecae1\", \"#deebf7\", \"darkorange\", \"grey\"]\n",
    "\n",
    "    # Reorganize results from models trained on feature subsets for plotting\n",
    "    temp_model_dict = {}\n",
    "    temp_pp_dict = {}\n",
    "    temp_roc_dict = {}\n",
    "    temp_y_pred_prob_dict = {}\n",
    "    temp_y_test_dict = {}\n",
    "    for key in models_subset.keys():\n",
    "        temp_model_dict[key] = models_subset[key][\"true\"]\n",
    "        temp_pp_dict[key] = preprocessors_subset[key]\n",
    "        temp_roc_dict[key] = roc_curve_values_subset[key][\"true\"]\n",
    "        temp_y_pred_prob_dict[key] = y_pred_prob_dict_subset[key][\"true\"]\n",
    "        temp_y_test_dict[key] = y_test_dict_subset[key][\"true\"]\n",
    "\n",
    "    # Add scrambled control from \"all features\" model\n",
    "    temp_model_dict[\"scrambled_control\"] = models_subset[\"all\"][\"scrambled\"]\n",
    "    temp_pp_dict[\"scrambled_control\"] = preprocessors_subset[\"all\"]\n",
    "    temp_roc_dict[\"scrambled_control\"] = roc_curve_values_subset[\"all\"][\"scrambled\"]\n",
    "    temp_y_pred_prob_dict[\"scrambled_control\"] = y_pred_prob_dict_subset[\"all\"][\"scrambled\"]\n",
    "    temp_y_test_dict[\"scrambled_control\"] = y_test_dict_subset[\"all\"][\"scrambled\"]\n",
    "\n",
    "    # Plot ROC curve and confusion matrices\n",
    "    plot_roc(temp_roc_dict, temp_model_dict, pathogen, colors=colors)\n",
    "    plot_confusion_matrices(temp_y_test_dict, temp_y_pred_prob_dict, temp_roc_dict, pathogen)\n",
    "\n",
    "    # Save models and results\n",
    "    master_dict = {}\n",
    "    master_dict[\"models\"] = temp_model_dict\n",
    "    master_dict[\"preprocessors\"] = temp_pp_dict\n",
    "    master_dict[\"roc\"] = temp_roc_dict\n",
    "    master_dict[\"y_pred_prob\"] = temp_y_pred_prob_dict\n",
    "    master_dict[\"y_test\"] = temp_y_test_dict\n",
    "    with open(f\"../data/model_rf/{pathogen}_rf.pkl\", \"wb\") as f:\n",
    "        pickle.dump(master_dict, f)\n",
    "\n",
    "    importance_df.to_csv(f\"../data/model_rf/{pathogen}_feature_importances_rf.csv\", index=False)"
   ]
  },
  {
   "cell_type": "markdown",
   "id": "baaca605",
   "metadata": {},
   "source": [
    "Build model to predict viral vs non-viral:"
   ]
  },
  {
   "cell_type": "code",
   "execution_count": null,
   "id": "aa305abd",
   "metadata": {},
   "outputs": [],
   "source": [
    "%%time\n",
    "pathogen = \"all-viral\"\n",
    "run_pipeline(pathogen)"
   ]
  },
  {
   "cell_type": "markdown",
   "id": "a9586914",
   "metadata": {},
   "source": [
    "# Show predictions for unseen Malaria cases"
   ]
  },
  {
   "cell_type": "code",
   "execution_count": null,
   "id": "59912741",
   "metadata": {},
   "outputs": [],
   "source": [
    "# Load data\n",
    "data_date = \"XXX\"\n",
    "data_path = \"XXX\"\n",
    "data_df = pd.read_csv(data_path, low_memory=False)\n"
   ]
  },
  {
   "cell_type": "code",
   "execution_count": null,
   "id": "3850fdd3",
   "metadata": {},
   "outputs": [],
   "source": [
    "# Load the generated model\n",
    "pathogen = \"all-viral\"\n",
    "with open(\"XXX\", \"rb\") as f:\n",
    "    master_dict = pickle.load(f)\n",
    "\n",
    "model = master_dict['models']['all']\n",
    "local_preprocessor = master_dict['preprocessors']['all']\n",
    "\n",
    "# Define threshold based on Youden's J for plotting\n",
    "threshold = 0.36"
   ]
  },
  {
   "cell_type": "code",
   "execution_count": null,
   "id": "8a43b74f",
   "metadata": {},
   "outputs": [],
   "source": [
    "# malaria_confirmed_mask does not allow co-infections\n",
    "malaria_label_col = \"Malaria_label\"\n",
    "malaria_confirmed_mask = (\n",
    "    (data_df[malaria_label_col] == 1) &\n",
    "    ~((data_df[[col for col in data_df.columns if col.endswith('_label') and col != malaria_label_col]] == 1).any(axis=1))\n",
    ")\n",
    "\n",
    "malaria_data = data_df[\n",
    "    malaria_confirmed_mask &\n",
    "    (data_df[f\"{pathogen}_label\"] == 2)\n",
    "].copy()\n",
    "\n",
    "print(len(malaria_data))\n",
    "\n",
    "X = local_preprocessor.transform(data_to_use(malaria_data))\n",
    "\n",
    "y_pred_prob = model.predict_proba(X)[:, 1]\n",
    "malaria_data[\"viral_prob\"] = y_pred_prob"
   ]
  },
  {
   "cell_type": "code",
   "execution_count": null,
   "id": "21b79d4f",
   "metadata": {},
   "outputs": [],
   "source": [
    "fig, ax = plt.subplots()\n",
    "ax.hist(malaria_data[\"viral_prob\"], bins=30, alpha=0.7)\n",
    "ax.set_xlabel(\"Viral Model Output\")\n",
    "ax.set_ylabel(\"Count\")\n",
    "\n",
    "ax.axvline(threshold, lw=1, ls=\"--\", c=\"red\")\n",
    "\n",
    "ax.set_title(\"Unseen Malaria positive (no co-infections) samples\")\n",
    "\n",
    "fig.savefig(\"figures/rf_model_preds_unseen_malaria\", dpi=300, bbox_inches=\"tight\")\n",
    "\n",
    "plt.show()"
   ]
  },
  {
   "cell_type": "markdown",
   "id": "2e06f5a7",
   "metadata": {},
   "source": [
    "# Predict unseen remaining 'other' samples"
   ]
  },
  {
   "cell_type": "code",
   "execution_count": null,
   "id": "e664b0de",
   "metadata": {},
   "outputs": [],
   "source": [
    "new_data = data_df[\n",
    "    (data_df[f\"{pathogen}_label\"] == 2) &\n",
    "    (data_df[\"Malaria_label\"] == 0) &\n",
    "    (data_df[\"Syphilis_label\"] == 0)\n",
    "    ].copy()\n",
    "\n",
    "X = local_preprocessor.transform(data_to_use(new_data))\n",
    "\n",
    "y_pred_prob = model.predict_proba(X)[:, 1]\n",
    "new_data[\"viral_prob\"] = y_pred_prob"
   ]
  },
  {
   "cell_type": "code",
   "execution_count": null,
   "id": "d9cae2fa",
   "metadata": {},
   "outputs": [],
   "source": [
    "fig, ax = plt.subplots()\n",
    "ax.hist(new_data[\"viral_prob\"], bins=30, alpha=0.7)\n",
    "ax.set_xlabel(\"Viral Model Output\")\n",
    "ax.set_ylabel(\"Count\")\n",
    "\n",
    "ax.axvline(threshold, lw=1, ls=\"--\", c=\"red\")\n",
    "\n",
    "ax.set_title(\"Unseen 'other' samples\")\n",
    "\n",
    "fig.savefig(\"figures/rf_model_preds_unseen\", dpi=300, bbox_inches=\"tight\")\n",
    "\n",
    "plt.show()"
   ]
  },
  {
   "cell_type": "code",
   "execution_count": null,
   "id": "9322a901",
   "metadata": {},
   "outputs": [],
   "source": [
    "category = \"high_priority_zoonotic\"\n",
    "zoonotic_df = pd.read_csv(f\"../data_small/rule_based_selection_{category}_{data_date}.csv\")\n",
    "zoonotic_df"
   ]
  },
  {
   "cell_type": "code",
   "execution_count": null,
   "id": "0e061ad2",
   "metadata": {},
   "outputs": [],
   "source": [
    "new_data = new_data.merge(zoonotic_df[[\"record_id\", \"features\", \"num_features\"]], on=\"record_id\", how=\"left\")\n",
    "new_data[\"num_features\"] = new_data[\"num_features\"].fillna(0)\n",
    "new_data"
   ]
  },
  {
   "cell_type": "code",
   "execution_count": null,
   "id": "32e53244",
   "metadata": {},
   "outputs": [],
   "source": [
    "# Count number of points at each (num_features, viral_prob) pair\n",
    "counts = new_data.groupby([\"num_features\", \"viral_prob\"]).size().reset_index(name='count')\n",
    "# Merge counts back to new_data for coloring\n",
    "new_data_merged = new_data.merge(counts, on=[\"num_features\", \"viral_prob\"], how=\"left\")\n",
    "\n",
    "fig, ax = plt.subplots()\n",
    "sc = ax.scatter(\n",
    "    new_data_merged[\"num_features\"],\n",
    "    new_data_merged[\"viral_prob\"],\n",
    "    c=new_data_merged[\"count\"],\n",
    "    cmap=\"viridis\",\n",
    "    alpha=0.6\n",
    ")\n",
    "ax.set_xlabel(\"Number of High Priority Clinical Features\")\n",
    "ax.set_ylabel(\"Viral Model Output (RF)\")\n",
    "ax.axhline(threshold, lw=1, ls=\"--\", c=\"red\")\n",
    "cbar = plt.colorbar(sc, ax=ax)\n",
    "cbar.set_label(\"Count\")\n",
    "\n",
    "fig.savefig(\"figures/rf_model_preds_over_clinical_features\", dpi=300, bbox_inches=\"tight\")\n",
    "\n",
    "plt.show()"
   ]
  },
  {
   "cell_type": "markdown",
   "id": "b6130ec4",
   "metadata": {},
   "source": [
    "# Generate RF predictions for comparison with LLMs"
   ]
  },
  {
   "cell_type": "code",
   "execution_count": null,
   "id": "19998037",
   "metadata": {},
   "outputs": [],
   "source": [
    "pathogen = \"all-viral\"\n",
    "# Include all data not used for either training or testing\n",
    "pred_df = data_df[\n",
    "    (data_df[f\"{pathogen}_label\"] == 2)\n",
    "    ].copy()\n",
    "\n",
    "X = local_preprocessor.transform(data_to_use(pred_df))\n",
    "\n",
    "y_pred_prob = model.predict_proba(X)[:, 1]\n",
    "pred_df[\"probability_of_viral_dec\"] = y_pred_prob\n",
    "pred_df[\"probability_of_viral\"] = y_pred_prob * 100\n",
    "pred_df[\"viral\"] = np.where(pred_df[\"probability_of_viral_dec\"] > threshold, \"yes\", \"no\")\n",
    "pred_df"
   ]
  },
  {
   "cell_type": "code",
   "execution_count": null,
   "id": "7bd46100",
   "metadata": {},
   "outputs": [],
   "source": [
    "data_df_rf = data_df.merge(pred_df[[\"record_id\", \"probability_of_viral\", \"viral\"]], on=\"record_id\")\n",
    "data_df_rf"
   ]
  },
  {
   "cell_type": "code",
   "execution_count": null,
   "id": "4b4d7726",
   "metadata": {},
   "outputs": [],
   "source": [
    "# Save data frame with RF predictions\n",
    "print(data_path.replace(\".csv\", \"_RF.csv\"))\n",
    "data_df_rf.to_csv(data_path.replace(\".csv\", \"_RF.csv\"), index=False)"
   ]
  },
  {
   "cell_type": "markdown",
   "id": "1d841690",
   "metadata": {},
   "source": [
    "# Re-generate predictions for testing and training data for LLM training\n",
    "??? Training preds is weird cause that's the data that the RF model was trained on but what else to include in knowledge prompt??"
   ]
  },
  {
   "cell_type": "code",
   "execution_count": null,
   "id": "f7845de9",
   "metadata": {},
   "outputs": [],
   "source": [
    "training_df = pd.read_pickle(f\"../data/test_train_splits/X_train_all-viral.pkl\")\n",
    "testing_df = pd.read_pickle(f\"../data/test_train_splits/X_test_all-viral.pkl\")"
   ]
  },
  {
   "cell_type": "code",
   "execution_count": null,
   "id": "ff9181ae",
   "metadata": {},
   "outputs": [],
   "source": [
    "# NOTE: Seed models manually create by changing SEED in model_rf.py\n",
    "\n",
    "thresholds = [0.36, 0.29, 0.32]\n",
    "\n",
    "# SEEDS: 42, 1, 120\n",
    "for i, seed in enumerate([\"\", \"_02\", \"_03\"]):\n",
    "    # Load the generated model\n",
    "    pathogen = \"all-viral\"\n",
    "    with open(f\"../data/model_rf/{pathogen}_rf{seed}.pkl\", \"rb\") as f:\n",
    "        master_dict = pickle.load(f)\n",
    "\n",
    "    model = master_dict['models']['all']\n",
    "    local_preprocessor = master_dict['preprocessors']['all']\n",
    "\n",
    "    # Define threshold based on Youden's J for plotting\n",
    "    threshold = thresholds[i]\n",
    "\n",
    "    # Predict for training data (used in knowledge summary for LLMs)\n",
    "    X_train = local_preprocessor.transform(training_df.drop(columns=[\"record_id\"]))\n",
    "\n",
    "    y_pred_prob_train = model.predict_proba(X_train)[:, 1]\n",
    "    training_df[\"probability_of_viral_rf\"] = y_pred_prob_train * 100\n",
    "    training_df[\"viral_rf\"] = np.where(training_df[\"probability_of_viral_rf\"]/100 > threshold, \"yes\", \"no\")\n",
    "\n",
    "    with open(f\"../data/test_train_splits/X_train_all-viral_rf{seed}.pkl\", \"wb\") as f:\n",
    "        pickle.dump(training_df, f)\n",
    "\n",
    "    # Predict for testing data\n",
    "    X_test = local_preprocessor.transform(testing_df.drop(columns=[\"record_id\"]))\n",
    "\n",
    "    y_pred_prob_test = model.predict_proba(X_test)[:, 1]\n",
    "    testing_df[\"probability_of_viral_rf\"] = y_pred_prob_test * 100\n",
    "    testing_df[\"viral_rf\"] = np.where(testing_df[\"probability_of_viral_rf\"]/100 > threshold, \"yes\", \"no\")\n",
    "\n",
    "    with open(f\"../data/test_train_splits/X_test_all-viral_rf{seed}.pkl\", \"wb\") as f:\n",
    "        pickle.dump(testing_df, f)"
   ]
  },
  {
   "cell_type": "code",
   "execution_count": null,
   "id": "ef6e6c6d",
   "metadata": {},
   "outputs": [],
   "source": []
  },
  {
   "cell_type": "code",
   "execution_count": null,
   "id": "efc1cdef",
   "metadata": {},
   "outputs": [],
   "source": []
  }
 ],
 "metadata": {
  "kernelspec": {
   "display_name": ".venv_07",
   "language": "python",
   "name": "python3"
  },
  "language_info": {
   "codemirror_mode": {
    "name": "ipython",
    "version": 3
   },
   "file_extension": ".py",
   "mimetype": "text/x-python",
   "name": "python",
   "nbconvert_exporter": "python",
   "pygments_lexer": "ipython3",
   "version": "3.12.11"
  }
 },
 "nbformat": 4,
 "nbformat_minor": 5
}
