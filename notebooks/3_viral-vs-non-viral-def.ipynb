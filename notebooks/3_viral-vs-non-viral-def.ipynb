{
 "cells": [
  {
   "cell_type": "code",
   "execution_count": null,
   "id": "9ac512d5",
   "metadata": {},
   "outputs": [],
   "source": [
    "%load_ext blackcellmagic\n",
    "%matplotlib inline\n",
    "%config InlineBackend.figure_format = 'retina'\n",
    "\n",
    "import sys\n",
    "import os\n",
    "import pickle\n",
    "import numpy as np\n",
    "import pandas as pd\n",
    "import matplotlib.pyplot as plt"
   ]
  },
  {
   "cell_type": "markdown",
   "id": "88717f3a",
   "metadata": {},
   "source": [
    "# Define 'viral' and 'non-viral' groups:"
   ]
  },
  {
   "cell_type": "code",
   "execution_count": null,
   "id": "2676cb7d",
   "metadata": {},
   "outputs": [],
   "source": [
    "# Create the 'all-viral_label' column\n",
    "data_date = \"XXX\"\n",
    "data_path = f\"XXX\"\n",
    "data_df = pd.read_csv(data_path, low_memory=False)\n",
    "\n",
    "# Drop the 'all-viral_label' column if it already exists\n",
    "if 'all-viral_label' in data_df.columns:\n",
    "    data_df = data_df.drop(columns=['all-viral_label'])\n",
    "\n",
    "# Exclude non-viral diagnoses from viral label calculation, but check for confirmed malaria or syphilis\n",
    "exclude_labels = {\"Malaria\", \"Syphilis\", \"HIV\"}  # Exclude bacterial and chronic viral infections\n",
    "label_cols = [\n",
    "    col for col in data_df.columns\n",
    "    if col.endswith('_label') and not any(exclude in col for exclude in exclude_labels)\n",
    "]\n",
    "malaria_label_col = \"Malaria_label\"\n",
    "syphilis_label_col = \"Syphilis_label\"\n",
    "hiv_label_col = \"HIV_label\"\n",
    "\n",
    "# Find negative samples with as many confirmed negative tests as possible\n",
    "no_positive_mask = ~((data_df[[col for col in data_df.columns if col.endswith('_label')]] == 1).any(axis=1))\n",
    "data_df_no_positives = data_df[no_positive_mask]\n",
    "num_negatives_per_sample = (data_df_no_positives[label_cols] == 0).sum(axis=1).sort_values(ascending=False)\n",
    "# # Find the minimum number of labels==0 results that still allows us to keep ~1000 negative samples\n",
    "# desired_n = 1000\n",
    "# # Print the distribution of negative test counts for debugging\n",
    "# print(\"Distribution of negative test counts among samples with no positive viral labels:\")\n",
    "# print(num_negatives_per_sample.value_counts().sort_index(ascending=False))\n",
    "# if len(num_negatives_per_sample) < desired_n:\n",
    "#     print(f\"Warning: Only {len(num_negatives_per_sample)} samples with no positive viral labels, fewer than desired {desired_n}.\")\n",
    "#     negative_test_threshold = num_negatives_per_sample.min()\n",
    "# else:\n",
    "#     negative_test_threshold = num_negatives_per_sample.iloc[desired_n - 1]\n",
    "# print(f\"Minimum number of negative tests to keep ~{desired_n} samples: {negative_test_threshold}\")\n",
    "# Define negative_test_threshold manually instead\n",
    "negative_test_threshold = 5\n",
    "# Get indices of high-confidence negatives (most negative viral tests)\n",
    "high_conf_neg_indices = num_negatives_per_sample[num_negatives_per_sample >= negative_test_threshold].index\n",
    "num_selected = (num_negatives_per_sample >= negative_test_threshold).sum()\n",
    "print(f\"Number of samples with >= {negative_test_threshold} negative tests: {num_selected}\")\n",
    "\n",
    "# Definitions:\n",
    "# Viral: Any confirmed viral diagnosis (including all co-infections)\n",
    "# Non-viral: Top N samples with the most confirmed negative tests as negative samples + N malaria-confirmed (no co-infections) samples\n",
    "\n",
    "# Randomly select indices of malaria-confirmed samples (no co-infections) to use as negative samples\n",
    "malaria_confirmed_mask = (\n",
    "    (data_df[malaria_label_col] == 1) &\n",
    "    ~((data_df[[col for col in data_df.columns if col.endswith('_label') and col != malaria_label_col]] == 1).any(axis=1))\n",
    ")\n",
    "malaria_num = num_selected\n",
    "malaria_confirmed_indices = data_df[malaria_confirmed_mask].sample(n=min(malaria_num, malaria_confirmed_mask.sum()), random_state=42).index\n",
    "\n",
    "def compute_all_viral_label(row):\n",
    "    labels = row[label_cols]\n",
    "    idx = row.name  # row index\n",
    "\n",
    "    # Positive samples have at least one confirmed viral diagnosis (inclusive of co-infections)\n",
    "    if (labels == 1).any():\n",
    "        return 1\n",
    "\n",
    "    # Use the top N samples with the most confirmed negative tests\n",
    "    elif idx in high_conf_neg_indices:\n",
    "        return 0\n",
    "\n",
    "    # Use some malaria-confirmed samples as negative\n",
    "    elif idx in malaria_confirmed_indices:\n",
    "        return 0\n",
    "\n",
    "    else:\n",
    "        return 2\n",
    "\n",
    "data_df['all-viral_label'] = data_df.apply(compute_all_viral_label, axis=1)\n",
    "\n",
    "# Save data frame with new 'all-viral_label' column\n",
    "data_df.to_csv(data_path, index=False)\n",
    "\n",
    "print(data_df[\"all-viral_label\"].value_counts())\n",
    "data_df.head()"
   ]
  },
  {
   "cell_type": "code",
   "execution_count": null,
   "id": "e05dcf9a",
   "metadata": {},
   "outputs": [],
   "source": [
    "# This data does not include CARMEN results\n",
    "data_df[data_df[\"Ebola_label\"]==1]"
   ]
  },
  {
   "cell_type": "code",
   "execution_count": null,
   "id": "7b3faa9c",
   "metadata": {},
   "outputs": [],
   "source": []
  }
 ],
 "metadata": {
  "kernelspec": {
   "display_name": ".venv_07",
   "language": "python",
   "name": "python3"
  },
  "language_info": {
   "codemirror_mode": {
    "name": "ipython",
    "version": 3
   },
   "file_extension": ".py",
   "mimetype": "text/x-python",
   "name": "python",
   "nbconvert_exporter": "python",
   "pygments_lexer": "ipython3",
   "version": "3.13.6"
  }
 },
 "nbformat": 4,
 "nbformat_minor": 5
}
