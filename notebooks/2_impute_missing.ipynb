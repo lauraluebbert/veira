{
 "cells": [
  {
   "cell_type": "code",
   "execution_count": null,
   "id": "b4aa393a-499a-4199-95db-af59c416417f",
   "metadata": {},
   "outputs": [],
   "source": [
    "import pandas as pd\n",
    "import numpy as np\n",
    "import missingno as msno\n",
    "from sklearn.impute import SimpleImputer\n",
    "import matplotlib.pyplot as plt\n",
    "import seaborn as sns\n",
    "%config InlineBackend.figure_format='retina'"
   ]
  },
  {
   "cell_type": "markdown",
   "id": "a33b9720-7fd0-4163-ae5d-9af8f3323e67",
   "metadata": {},
   "source": [
    " ___\n",
    " # Load clean data"
   ]
  },
  {
   "cell_type": "code",
   "execution_count": null,
   "id": "665a355b-4c55-4152-bd36-2ca7f8cfba8f",
   "metadata": {},
   "outputs": [],
   "source": [
    "data_date = \"XXX\"\n",
    "raw_data_path = f\"XXX\"\n",
    "data_path = f\"XXX\"\n",
    "dict_path = f\"XXX\"\n",
    "col_meta_path = \"XXX\"\n",
    "\n",
    "data_df_raw = pd.read_csv(raw_data_path, low_memory=False)\n",
    "data_df = pd.read_csv(data_path, low_memory=False)\n",
    "dict_df = pd.read_csv(dict_path)\n",
    "col_meta = pd.read_excel(col_meta_path, sheet_name=\"columns_metadata\")"
   ]
  },
  {
   "cell_type": "code",
   "execution_count": null,
   "id": "12e5fae5-c4b2-4f2a-9d82-29ac9a708375",
   "metadata": {},
   "outputs": [],
   "source": [
    "def explain_col(col):\n",
    "    temp = dict_df[dict_df[\"Variable / Field Name\"] == col]\n",
    "    print(temp)\n",
    "    \n",
    "def data_to_use(df):\n",
    "    \"\"\"\n",
    "    Function to remove columns that should not be included for predictions/clustering.\n",
    "    \"\"\"\n",
    "    return df.loc[:, \n",
    "        (~df.columns.str.contains('label')) & \n",
    "        (~df.columns.str.contains('record_id'))\n",
    "        ]"
   ]
  },
  {
   "cell_type": "code",
   "execution_count": null,
   "id": "6075a270-bda5-42f0-90b4-cb4949320536",
   "metadata": {},
   "outputs": [],
   "source": [
    "data_df"
   ]
  },
  {
   "cell_type": "markdown",
   "id": "3cf992fd-1b28-4d8c-9ef9-c5e27631ecd6",
   "metadata": {},
   "source": [
    "___\n",
    "# Impute missing data"
   ]
  },
  {
   "cell_type": "code",
   "execution_count": null,
   "id": "e79b1a64-ae87-4505-a909-f1622e09ea18",
   "metadata": {},
   "outputs": [],
   "source": [
    "num_cols = col_meta[col_meta[\"data_type\"]==\"numerical\"][\"column\"].values\n",
    "cat_cols = col_meta[col_meta[\"data_type\"]==\"categorical\"][\"column\"].values"
   ]
  },
  {
   "cell_type": "code",
   "execution_count": null,
   "id": "fa00b176-a782-44f1-b29a-74026ff1cdfc",
   "metadata": {
    "scrolled": true
   },
   "outputs": [],
   "source": [
    "num_cols"
   ]
  },
  {
   "cell_type": "code",
   "execution_count": null,
   "id": "a5ae5e70-96dc-4108-acd8-fdeda2d8a8c8",
   "metadata": {
    "scrolled": true
   },
   "outputs": [],
   "source": [
    "cat_cols"
   ]
  },
  {
   "cell_type": "code",
   "execution_count": null,
   "id": "a5ec515d-38ad-4573-b192-9309499c4df9",
   "metadata": {},
   "outputs": [],
   "source": [
    "# Make a copy for imputation and remove record_id and _label columns\n",
    "df_imputed = data_to_use(data_df).copy()\n",
    "\n",
    "# Filter cat_cols and num_cols only to include those that exist in data_df\n",
    "cat_cols_present = [col for col in cat_cols if col in df_imputed.columns]\n",
    "num_cols_present = [col for col in num_cols if col in df_imputed.columns]\n",
    "\n",
    "# If you do this before imputation, 'nan' is recognized as a separate category\n",
    "# Treat coded categoricals as strings\n",
    "df_imputed[cat_cols_present] = df_imputed[cat_cols_present].astype(str)\n",
    "\n",
    "# Create imputers\n",
    "num_imputer = SimpleImputer(strategy='mean')\n",
    "cat_imputer = SimpleImputer(strategy='most_frequent')\n",
    "\n",
    "# Apply imputers only to columns that exist\n",
    "if num_cols_present:\n",
    "    df_imputed[num_cols_present] = num_imputer.fit_transform(df_imputed[num_cols_present])\n",
    "if cat_cols_present:\n",
    "    df_imputed[cat_cols_present] = cat_imputer.fit_transform(df_imputed[cat_cols_present])\n",
    "\n",
    "# Restore categorical columns as string\n",
    "df_imputed[cat_cols_present] = df_imputed[cat_cols_present].astype(str)"
   ]
  },
  {
   "cell_type": "markdown",
   "id": "9ee594a0-25fa-456c-9f25-2b485af08ded",
   "metadata": {},
   "source": [
    "Visualize effects of imputed values:"
   ]
  },
  {
   "cell_type": "code",
   "execution_count": null,
   "id": "55094ab5-6c94-4256-89ad-fda6de8152af",
   "metadata": {},
   "outputs": [],
   "source": [
    "# Plot gaps before imputation\n",
    "msno.matrix(data_df_raw)\n",
    "plt.title(\"Missing Data (Raw Data)\")\n",
    "plt.savefig(\"figures/2_data_gaps_overview_raw_data.png\", dpi=300, bbox_inches=\"tight\")\n",
    "plt.show()"
   ]
  },
  {
   "cell_type": "code",
   "execution_count": null,
   "id": "2f0d524b-b385-45c5-bf51-70f5331907ba",
   "metadata": {},
   "outputs": [],
   "source": [
    "# Plot gabs before imputation\n",
    "msno.matrix(data_df)\n",
    "plt.title(\"Missing Data (Clean Data Before Imputation)\")\n",
    "plt.savefig(\"figures/2_data_gaps_overview_clean.png\", dpi=300, bbox_inches=\"tight\")\n",
    "plt.show()"
   ]
  },
  {
   "cell_type": "code",
   "execution_count": null,
   "id": "0727cced-a0fa-44aa-a868-4729180c0490",
   "metadata": {},
   "outputs": [],
   "source": [
    "# Plot features with most imputed values\n",
    "# Count missing (i.e., imputed) values per column\n",
    "missing_counts = data_df.isna().sum()\n",
    "\n",
    "# Filter to only columns with missing values\n",
    "missing_counts = missing_counts[missing_counts > 0]\n",
    "\n",
    "# Sort by number of missing values\n",
    "missing_counts = missing_counts.sort_values(ascending=False)\n",
    "\n",
    "# Display top N (e.g., 20) most imputed columns\n",
    "top_missing = missing_counts.head(20)\n",
    "\n",
    "# Print them\n",
    "# print(top_missing)\n",
    "\n",
    "# Optional: bar plot\n",
    "top_missing.plot(kind='barh', figsize=(10, 6), color='salmon')\n",
    "plt.gca().invert_yaxis()  # Highest on top\n",
    "plt.title(\"Top 20 Columns with Most Imputed Values\")\n",
    "plt.xlabel(\"Number of Missing (Imputed) Values\")\n",
    "plt.tight_layout()\n",
    "\n",
    "plt.savefig(\"figures/2_top_imputed_features.png\", dpi=300, bbox_inches=\"tight\")\n",
    "\n",
    "plt.show()"
   ]
  },
  {
   "cell_type": "code",
   "execution_count": null,
   "id": "b5f74f14-4989-4e43-b5ee-fc121bd109a3",
   "metadata": {},
   "outputs": [],
   "source": [
    "import matplotlib.pyplot as plt\n",
    "import pandas as pd\n",
    "import seaborn as sns\n",
    "\n",
    "def plot_imputed(feature, feature_type='cat', save=False, fontsize=14, bins=30, figsize=(10, 5)):\n",
    "    \"\"\"\n",
    "    Visualizes original vs imputed values for a given feature.\n",
    "\n",
    "    Parameters:\n",
    "        feature (str): The feature column to plot\n",
    "        feature_type (str): 'cat' for categorical, 'num' for numerical\n",
    "        save (bool): Whether to save the figure\n",
    "        fontsize (int): Font size for all labels\n",
    "        bins (int): Number of bins for histogram (numerical only)\n",
    "    \"\"\"\n",
    "    # Mask for missing (i.e., imputed) rows in the original data\n",
    "    imputed_mask = data_df[feature].isna()\n",
    "\n",
    "    # Final values from imputed data\n",
    "    final_vals = df_imputed[feature]\n",
    "    original_vals = final_vals[~imputed_mask]\n",
    "    imputed_vals = final_vals[imputed_mask]\n",
    "\n",
    "    # Categorical feature: stacked bar\n",
    "    if feature_type == 'cat':\n",
    "        # Count occurrences\n",
    "        vc_original = original_vals.dropna().astype(str).value_counts()\n",
    "        vc_imputed = imputed_vals.dropna().astype(str).value_counts()\n",
    "\n",
    "        # Combine into DataFrame\n",
    "        categories = sorted(set(vc_original.index).union(vc_imputed.index))\n",
    "        plot_df = pd.DataFrame(index=categories)\n",
    "        plot_df['Original'] = vc_original\n",
    "        plot_df['Imputed'] = vc_imputed\n",
    "        plot_df = plot_df.fillna(0)\n",
    "\n",
    "        # Plot\n",
    "        ax = plot_df[['Original', 'Imputed']].plot(\n",
    "            kind='bar',\n",
    "            stacked=True,\n",
    "            color=['blue', 'orange'],\n",
    "            figsize=figsize\n",
    "        )\n",
    "        ax.set_xlabel(\"Category\", fontsize=fontsize)\n",
    "        ax.set_ylabel(\"Number of Samples\", fontsize=fontsize)\n",
    "        ax.set_title(f\"Final Distribution of '{feature}' (Original vs. Imputed)\", fontsize=fontsize)\n",
    "        ax.tick_params(axis='both', labelsize=fontsize)\n",
    "        ax.legend(title=\"Source\", fontsize=fontsize, title_fontsize=fontsize)\n",
    "        plt.xticks(rotation=45, ha='right')\n",
    "\n",
    "    # Numerical feature: overlaid histogram\n",
    "    elif feature_type == 'num':\n",
    "        plt.figure(figsize=figsize)\n",
    "\n",
    "        # Histogram of original values, return bin edges\n",
    "        counts, bin_edges, _ = plt.hist(\n",
    "            original_vals, bins=bins, color='blue', alpha=0.7, label='Original'\n",
    "        )\n",
    "\n",
    "        # Count of imputed values (should only be a single value (mean) for numerical categories)\n",
    "        num_imputed = imputed_vals.dropna().shape[0]\n",
    "        unique_imputed_vals = imputed_vals.dropna().unique()\n",
    "\n",
    "        if len(unique_imputed_vals) == 1:\n",
    "            imputed_val = unique_imputed_vals[0]\n",
    "\n",
    "            # Estimate bin width\n",
    "            bin_width = bin_edges[1] - bin_edges[0]\n",
    "\n",
    "            # Add a bar representing the imputed value\n",
    "            plt.bar(\n",
    "                x=imputed_val,\n",
    "                height=num_imputed,\n",
    "                width=bin_width,\n",
    "                color='orange',\n",
    "                alpha=0.8,\n",
    "                align='center',\n",
    "                label='Imputed'\n",
    "            )\n",
    "        else:\n",
    "            # Multiple imputed values – fallback to histogram\n",
    "            plt.hist(imputed_vals, bins=bins, color='orange', alpha=0.5, label='Imputed')\n",
    "\n",
    "        plt.xlabel(feature, fontsize=fontsize)\n",
    "        plt.ylabel(\"Count\", fontsize=fontsize)\n",
    "        plt.title(f\"Final Distribution of '{feature}' (Original vs. Imputed)\", fontsize=fontsize)\n",
    "        plt.legend(title=\"Source\", fontsize=fontsize, title_fontsize=fontsize)\n",
    "        plt.xticks(fontsize=fontsize)\n",
    "        plt.yticks(fontsize=fontsize)\n",
    "\n",
    "    else:\n",
    "        raise ValueError(\"feature_type must be either 'cat' or 'num'\")\n",
    "\n",
    "    plt.tight_layout()\n",
    "    if save:\n",
    "        plt.savefig(f\"figures/2_imputation_overview_{feature}.png\", dpi=300, bbox_inches=\"tight\")\n",
    "\n",
    "    plt.show()"
   ]
  },
  {
   "cell_type": "code",
   "execution_count": null,
   "id": "12d7a6a0-4e8e-4a1e-a990-9b9307340610",
   "metadata": {},
   "outputs": [],
   "source": [
    "feature = 'rodent_touch'\n",
    "plot_imputed(feature)"
   ]
  },
  {
   "cell_type": "code",
   "execution_count": null,
   "id": "0580cc4f-fb5f-493e-a8b8-1e86c0507004",
   "metadata": {},
   "outputs": [],
   "source": [
    "feature = 'funeral_body'\n",
    "plot_imputed(feature)"
   ]
  },
  {
   "cell_type": "code",
   "execution_count": null,
   "id": "27c31e08-155f-47bd-a1b6-2490e89c0405",
   "metadata": {},
   "outputs": [],
   "source": [
    "feature = 'pregnancy_crf'\n",
    "plot_imputed(feature, save=True)"
   ]
  },
  {
   "cell_type": "code",
   "execution_count": null,
   "id": "5259a7fa-9a30-4ec0-adb8-a179bdda88d2",
   "metadata": {},
   "outputs": [],
   "source": [
    "feature = 'dbp'\n",
    "plot_imputed(feature, feature_type='num', save=True)"
   ]
  },
  {
   "cell_type": "markdown",
   "id": "ece12624-cfe6-4db8-9f06-c909fd7a7b61",
   "metadata": {},
   "source": [
    "### Save data"
   ]
  },
  {
   "cell_type": "code",
   "execution_count": null,
   "id": "d9b15066-4cc6-4cd3-9800-7e0837cd5966",
   "metadata": {},
   "outputs": [],
   "source": [
    "# Add pathogen label and record_id columns back\n",
    "label_cols = [col for col in data_df.columns if col.endswith('_label')]\n",
    "cols_to_copy = label_cols + ['record_id']\n",
    "df_imputed[cols_to_copy] = data_df[cols_to_copy].values\n",
    "\n",
    "df_imputed.to_csv(\"XXX\", index=False)"
   ]
  },
  {
   "cell_type": "code",
   "execution_count": null,
   "id": "8d6eb4d5-d5ae-41c5-b1e7-51acbe782e5a",
   "metadata": {},
   "outputs": [],
   "source": []
  }
 ],
 "metadata": {
  "kernelspec": {
   "display_name": ".venv",
   "language": "python",
   "name": "python3"
  },
  "language_info": {
   "codemirror_mode": {
    "name": "ipython",
    "version": 3
   },
   "file_extension": ".py",
   "mimetype": "text/x-python",
   "name": "python",
   "nbconvert_exporter": "python",
   "pygments_lexer": "ipython3",
   "version": "3.12.8"
  }
 },
 "nbformat": 4,
 "nbformat_minor": 5
}
