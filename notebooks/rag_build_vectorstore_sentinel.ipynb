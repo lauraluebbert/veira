{
 "cells": [
  {
   "cell_type": "markdown",
   "id": "5e1b0ad0",
   "metadata": {},
   "source": [
    "# Build vector store"
   ]
  },
  {
   "cell_type": "code",
   "execution_count": null,
   "id": "33bfbe71",
   "metadata": {},
   "outputs": [],
   "source": [
    "import numpy as np\n",
    "import pandas as pd\n",
    "import json\n",
    "import sys\n",
    "\n",
    "sys.path.append(\"../src\")\n",
    "from utils import data_to_use\n",
    "from build_rag_vectorstore import build_vector_db_from_df"
   ]
  },
  {
   "cell_type": "code",
   "execution_count": null,
   "id": "5bbe6657",
   "metadata": {},
   "outputs": [],
   "source": [
    "out_dir = \"XXX\"\n",
    "data = \"XXX\"\n",
    "labels = \"XXX\"\n",
    "\n",
    "data_df = pd.read_pickle(data)\n",
    "label_df = pd.read_pickle(labels)\n",
    "\n",
    "data_df[\"viral_diagnosis\"] = label_df\n",
    "data_df"
   ]
  },
  {
   "cell_type": "code",
   "execution_count": null,
   "id": "6a2a40d1",
   "metadata": {},
   "outputs": [],
   "source": [
    "list(data_df.columns)"
   ]
  },
  {
   "cell_type": "code",
   "execution_count": null,
   "id": "7784d69d",
   "metadata": {},
   "outputs": [],
   "source": [
    "%%time\n",
    "# Build vector DB (only include useful columns to keep context short)\n",
    "cols_to_include = data_df.columns\n",
    "\n",
    "build_vector_db_from_df(\n",
    "    df=data_df,\n",
    "    out_dir=out_dir,\n",
    "    cols=cols_to_include,\n",
    "    id_col=\"record_id\",\n",
    "    model_name=\"sentence-transformers/all-MiniLM-L6-v2\",  # general-purpose embedding\n",
    "    normalize=True,\n",
    ")"
   ]
  },
  {
   "cell_type": "markdown",
   "id": "3d9d96bb",
   "metadata": {},
   "source": [
    "# Test performance of RAG on test data"
   ]
  },
  {
   "cell_type": "code",
   "execution_count": null,
   "metadata": {},
   "outputs": [],
   "source": [
    "import pandas as pd\n",
    "import numpy as np\n",
    "import json\n",
    "import matplotlib.pyplot as plt\n",
    "import sys\n",
    "sys.path.append(\"../src\")\n",
    "from model_llm_rag_funcs import load_vectorstore_for_rag, retrieve_context\n",
    "from utils import row_to_json\n",
    "\n",
    "%config InlineBackend.figure_format='retina'"
   ]
  },
  {
   "cell_type": "code",
   "execution_count": null,
   "id": "7138608b",
   "metadata": {},
   "outputs": [],
   "source": [
    "data_path = \"XXX\"\n",
    "data_df = pd.read_pickle(data_path)\n",
    "\n",
    "rag_dir = \"XXX\""
   ]
  },
  {
   "cell_type": "code",
   "execution_count": null,
   "id": "692f1ee5",
   "metadata": {},
   "outputs": [],
   "source": [
    "%%time\n",
    "averages = []\n",
    "averages_round = []\n",
    "weighted_averages = []\n",
    "weighted_averages_round = []\n",
    "\n",
    "for _, row in data_df.iterrows():\n",
    "    query_text = row_to_json(row)\n",
    "\n",
    "    index, texts, metas, model_info = load_vectorstore_for_rag(rag_dir)\n",
    "    rag_state = {\"index\": index, \"texts\": texts, \"metas\": metas, \"model_info\": model_info}\n",
    "    print(f\"RAG loaded from {rag_dir} — {len(texts)} docs, embedder={model_info.get('model_name')}\")\n",
    "\n",
    "    rag_top_k = 20\n",
    "    rag_max_tokens = 1200\n",
    "    retrieved_block = retrieve_context(\n",
    "        query_text, rag_state, top_k=rag_top_k, max_ctx_tokens=rag_max_tokens\n",
    "    )\n",
    "\n",
    "    avg = np.mean(retrieved_block)\n",
    "    averages.append(avg)\n",
    "\n",
    "    avg_r = int(round(np.mean(retrieved_block)))\n",
    "    averages_round.append(avg_r)\n",
    "\n",
    "    # Take a weighted average where earlier positions count for more\n",
    "    # weight = 1/(position+1) (harmonic decay)\n",
    "    weights = np.arange(len(retrieved_block), 0, -1)\n",
    "    weights = weights / weights.sum()  # normalize to sum to 1\n",
    "\n",
    "    weighted_avg = np.average(retrieved_block, weights=weights)\n",
    "    weighted_averages.append(weighted_avg)\n",
    "    weighted_averages_round.append(int(round(weighted_avg)))"
   ]
  },
  {
   "cell_type": "code",
   "execution_count": null,
   "id": "f9b425a4",
   "metadata": {},
   "outputs": [],
   "source": [
    "fig, ax = plt.subplots(figsize=(8, 5))\n",
    "\n",
    "ax.hist(averages, bins=20, alpha=1, label='Averages', histtype='step', lw=1)\n",
    "ax.hist(weighted_averages, bins=20, alpha=1, label='Weighted Averages', histtype='step', lw=1)\n",
    "\n",
    "ax.set_xlabel('Value')\n",
    "ax.set_ylabel('Frequency')\n",
    "ax.set_title('Histogram of RAG Averages and Weighted Averages')\n",
    "ax.legend()\n",
    "\n",
    "plt.show()"
   ]
  },
  {
   "cell_type": "code",
   "execution_count": null,
   "id": "31cd1594",
   "metadata": {},
   "outputs": [],
   "source": [
    "data_df[\"averages\"] = averages\n",
    "data_df[\"averages_round\"] = averages_round\n",
    "data_df[\"weighted_averages\"] = weighted_averages\n",
    "data_df[\"weighted_averages_round\"] = weighted_averages_round\n",
    "\n",
    "data_df.to_pickle(data_path.replace(\".pkl\", \"_rag.pkl\"))\n",
    "data_df"
   ]
  },
  {
   "cell_type": "code",
   "execution_count": null,
   "id": "330ef214",
   "metadata": {},
   "outputs": [],
   "source": []
  }
 ],
 "metadata": {
  "kernelspec": {
   "display_name": ".venv_07",
   "language": "python",
   "name": "python3"
  },
  "language_info": {
   "codemirror_mode": {
    "name": "ipython",
    "version": 3
   },
   "file_extension": ".py",
   "mimetype": "text/x-python",
   "name": "python",
   "nbconvert_exporter": "python",
   "pygments_lexer": "ipython3",
   "version": "3.12.11"
  }
 },
 "nbformat": 4,
 "nbformat_minor": 5
}
