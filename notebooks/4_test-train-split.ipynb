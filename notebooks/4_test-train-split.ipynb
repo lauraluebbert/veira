{
 "cells": [
  {
   "cell_type": "code",
   "execution_count": 1,
   "id": "0a78f9e5",
   "metadata": {},
   "outputs": [],
   "source": [
    "%load_ext blackcellmagic\n",
    "%matplotlib inline\n",
    "%config InlineBackend.figure_format = 'retina'\n",
    "\n",
    "import json\n",
    "import sys\n",
    "import os\n",
    "import pickle\n",
    "import numpy as np\n",
    "import pandas as pd\n",
    "import matplotlib.pyplot as plt\n",
    "from sklearn.model_selection import train_test_split\n",
    "\n",
    "sys.path.insert(0, os.path.abspath(os.path.join(os.getcwd(), '..', 'src')))\n",
    "from utils import data_to_use"
   ]
  },
  {
   "cell_type": "code",
   "execution_count": null,
   "id": "2da20985",
   "metadata": {},
   "outputs": [],
   "source": [
    "# Load data\n",
    "data_date = \"XXX\"\n",
    "data_path = f\"XXX\"\n",
    "data_df = pd.read_csv(data_path, low_memory=False)\n",
    "\n",
    "save_folder = \"XXX\""
   ]
  },
  {
   "cell_type": "code",
   "execution_count": 3,
   "id": "b86e06a5",
   "metadata": {},
   "outputs": [],
   "source": [
    "pathogen = \"all-viral\""
   ]
  },
  {
   "cell_type": "code",
   "execution_count": null,
   "id": "731fcaeb",
   "metadata": {},
   "outputs": [],
   "source": [
    "# Load data\n",
    "data_df_tmp = data_df[data_df[f\"{pathogen}_label\"] != 2].copy()\n",
    "y = data_df_tmp[f\"{pathogen}_label\"].astype(int)\n",
    "\n",
    "# Removing pathogen labels but retaining record_id\n",
    "X = data_to_use(data_df_tmp)\n",
    "\n",
    "# Train/test split\n",
    "SEED = 42\n",
    "X_train, X_test, y_train, y_test = train_test_split(\n",
    "    X, y, test_size=0.2, random_state=SEED, stratify=y\n",
    ")\n",
    "\n",
    "# Save splits to disk for reproducibility and later use\n",
    "with open(f\"{save_folder}/X_train_{pathogen}.pkl\", \"wb\") as f:\n",
    "    pickle.dump(X_train, f)\n",
    "with open(f\"{save_folder}/X_test_{pathogen}.pkl\", \"wb\") as f:\n",
    "    pickle.dump(X_test, f)\n",
    "with open(f\"{save_folder}/y_train_{pathogen}.pkl\", \"wb\") as f:\n",
    "    pickle.dump(y_train, f)\n",
    "with open(f\"{save_folder}/y_test_{pathogen}.pkl\", \"wb\") as f:\n",
    "    pickle.dump(y_test, f)"
   ]
  },
  {
   "cell_type": "code",
   "execution_count": null,
   "id": "30c1cf11",
   "metadata": {},
   "outputs": [],
   "source": []
  }
 ],
 "metadata": {
  "kernelspec": {
   "display_name": ".venv_07",
   "language": "python",
   "name": "python3"
  },
  "language_info": {
   "codemirror_mode": {
    "name": "ipython",
    "version": 3
   },
   "file_extension": ".py",
   "mimetype": "text/x-python",
   "name": "python",
   "nbconvert_exporter": "python",
   "pygments_lexer": "ipython3",
   "version": "3.12.11"
  }
 },
 "nbformat": 4,
 "nbformat_minor": 5
}
