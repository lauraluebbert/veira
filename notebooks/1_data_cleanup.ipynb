{
 "cells": [
  {
   "cell_type": "code",
   "execution_count": null,
   "id": "b4aa393a-499a-4199-95db-af59c416417f",
   "metadata": {},
   "outputs": [],
   "source": [
    "import pandas as pd\n",
    "import numpy as np\n",
    "import matplotlib.pyplot as plt\n",
    "import matplotlib.dates as mdates\n",
    "import seaborn as sns\n",
    "%config InlineBackend.figure_format='retina'"
   ]
  },
  {
   "cell_type": "markdown",
   "id": "34031135-12b6-41ff-879e-08fd4a2a3e67",
   "metadata": {},
   "source": [
    "____\n",
    "# Load and clean data"
   ]
  },
  {
   "cell_type": "code",
   "execution_count": null,
   "id": "1d01b2de-96f0-46c4-a301-1ce2fa36d59f",
   "metadata": {},
   "outputs": [],
   "source": [
    "data_date = \"XXX\"\n",
    "include_carmen = False"
   ]
  },
  {
   "cell_type": "code",
   "execution_count": null,
   "id": "7ed0d6c3-53a0-4013-95f0-38e2d6f5d94f",
   "metadata": {},
   "outputs": [],
   "source": [
    "data_path = \"XXX\"\n",
    "dict_path = \"XXX\"\n",
    "col_meta_path = \"XXX\""
   ]
  },
  {
   "cell_type": "code",
   "execution_count": null,
   "id": "70c0b1af-31cc-42b2-aaee-571c56688f40",
   "metadata": {},
   "outputs": [],
   "source": [
    "dict_df = pd.read_csv(dict_path)\n",
    "\n",
    "def explain_col(col):\n",
    "    temp = dict_df[dict_df[\"Variable / Field Name\"] == col]\n",
    "    print(temp)\n",
    "    \n",
    "dict_df"
   ]
  },
  {
   "cell_type": "code",
   "execution_count": null,
   "id": "3f9ef94d-c6a9-490c-b2b7-75b9707d56ae",
   "metadata": {},
   "outputs": [],
   "source": [
    "col_meta = pd.read_excel(col_meta_path, sheet_name=\"columns_metadata\")\n",
    "col_meta"
   ]
  },
  {
   "cell_type": "code",
   "execution_count": null,
   "id": "6dbe2a00-ef7f-4f86-bbc0-25caee8744b3",
   "metadata": {},
   "outputs": [],
   "source": [
    "data_df_raw = pd.read_csv(data_path, low_memory=False)\n",
    "data_df_raw"
   ]
  },
  {
   "cell_type": "markdown",
   "id": "060cc172-43f9-4eba-be87-c80dac0f1bf5",
   "metadata": {},
   "source": [
    "Clean data:"
   ]
  },
  {
   "cell_type": "code",
   "execution_count": null,
   "id": "c98927ab-161f-46f6-9eeb-c49d2b208cf1",
   "metadata": {},
   "outputs": [],
   "source": [
    "# Remove patient IDs that contain a letter or is length 5 or less\n",
    "data_df = data_df_raw[\n",
    "    ~data_df_raw['record_id'].str.contains('[a-zA-Z]', regex=True) & \n",
    "    (data_df_raw['record_id'].str.len() > 5)\n",
    "].copy()\n",
    "\n",
    "print(len(data_df_raw))\n",
    "print(len(data_df))"
   ]
  },
  {
   "cell_type": "code",
   "execution_count": null,
   "id": "d8a5a249-ab3c-4f31-b690-c36fc2e7722d",
   "metadata": {},
   "outputs": [],
   "source": [
    "print(len(data_df.columns))\n",
    "\n",
    "# Check for any columns in data_df that are not mentioned in col_meta\n",
    "extra_columns = set(data_df.columns) - set(col_meta[\"column\"])\n",
    "if extra_columns:\n",
    "    print(\"Warning: The following columns in data_df are not mentioned in col_meta:\", extra_columns)\n",
    "\n",
    "# Identify columns to delete\n",
    "for col in col_meta[\"column\"]:\n",
    "    if col_meta.loc[col_meta[\"column\"] == col, \"delete_manual\"].values[0] == 1:\n",
    "        try:\n",
    "            del data_df[col]\n",
    "        except KeyError:\n",
    "            print(f\"Column {col} not found in data.\")\n",
    "\n",
    "print(len(data_df.columns))"
   ]
  },
  {
   "cell_type": "code",
   "execution_count": null,
   "id": "22066568-f8ba-465c-a2bd-378931e20c1d",
   "metadata": {},
   "outputs": [],
   "source": [
    "# Drop pathogen columns that won't be used for pathogen detection\n",
    "all_path_cols =  col_meta.loc[col_meta[\"pathogen\"].notnull(), \"column\"].tolist()\n",
    "path_cols_to_keep = col_meta.loc[col_meta[\"pathogen_use_clean\"].notnull(), \"column\"].tolist()\n",
    "col_to_exclude = [col for col in all_path_cols if col not in path_cols_to_keep]\n",
    "\n",
    "# Of the cols to exclude, identify columns that exist in data_df and those that are missing\n",
    "existing_cols = [col for col in col_to_exclude if col in data_df.columns]\n",
    "missing_cols = [col for col in col_to_exclude if col not in data_df.columns]\n",
    "\n",
    "# Drop only existing columns\n",
    "data_df = data_df.drop(columns=existing_cols)\n",
    "\n",
    "# Print warning for missing columns\n",
    "if missing_cols:\n",
    "    print(\"The following columns were not found in the DataFrame (and were not dropped):\")\n",
    "    print(missing_cols)\n",
    "\n",
    "print(len(data_df.columns))"
   ]
  },
  {
   "cell_type": "code",
   "execution_count": null,
   "id": "9c2892ef-f1b7-4e01-9334-30de1c0f16fa",
   "metadata": {},
   "outputs": [],
   "source": [
    "def clean_dataframe(df, nan_threshold, keep_cols):\n",
    "    if keep_cols is None:\n",
    "        keep_cols = []\n",
    "\n",
    "    # Normalize to list of strings and ensure 'record_id' is preserved\n",
    "    keep_cols = list(set(map(str, keep_cols)) | {'record_id'})\n",
    "\n",
    "    original_cols = set(df.columns)\n",
    "\n",
    "    # Drop columns with too many NaNs (unless excluded)\n",
    "    threshold = nan_threshold * len(df)\n",
    "    cols_to_keep = [col for col in df.columns if col in keep_cols or df[col].count() >= threshold]\n",
    "    df = df[cols_to_keep]\n",
    "\n",
    "    # Identify object/string columns to drop (excluding protected ones)\n",
    "    text_columns = df.select_dtypes(include=['object', 'string']).columns\n",
    "    str_cols = [col for col in text_columns if col not in keep_cols]\n",
    "\n",
    "    # Drop those string columns\n",
    "    df = df.drop(columns=str_cols)\n",
    "\n",
    "    # Determine dropped columns\n",
    "    final_cols = set(df.columns)\n",
    "    dropped_cols = list(original_cols - final_cols)\n",
    "\n",
    "    return df, str_cols, dropped_cols"
   ]
  },
  {
   "cell_type": "code",
   "execution_count": null,
   "id": "9b3b45a8-92bc-4ae2-9eff-bccb75037a9f",
   "metadata": {},
   "outputs": [],
   "source": [
    "# Remove all columns with text values or >50% NaN (but exclude pathogen columns)\n",
    "nan_threshold = 0.5\n",
    "\n",
    "# Manually keep specially marked columns and pathogen diagnosis columns\n",
    "keep_manual_list = list(col_meta[col_meta[\"keep_manual\"] == 1][\"column\"].values) + path_cols_to_keep\n",
    "\n",
    "keep_cols = col_meta.loc[col_meta[\"pathogen_use_clean\"].notnull(), \"column\"].tolist() + keep_manual_list\n",
    "data_df, dropped_str_cols, all_dropped_cols = clean_dataframe(\n",
    "    data_df,\n",
    "    nan_threshold=nan_threshold,\n",
    "    keep_cols=keep_cols\n",
    ")\n",
    "\n",
    "print(\"Dropped text columns:\", dropped_str_cols)\n",
    "print(\"All dropped columns:\", all_dropped_cols)"
   ]
  },
  {
   "cell_type": "code",
   "execution_count": null,
   "id": "dcc8671b-20c9-4e76-b633-875fd3319989",
   "metadata": {},
   "outputs": [],
   "source": [
    "print(len(data_df.columns))"
   ]
  },
  {
   "cell_type": "markdown",
   "id": "7b7a5660-10f6-4ea5-bfd3-38ca9ee51c83",
   "metadata": {},
   "source": [
    "___\n",
    "# Add pathogen labels"
   ]
  },
  {
   "cell_type": "code",
   "execution_count": null,
   "id": "2b08684d-4521-480f-993b-53f7e6eb263c",
   "metadata": {},
   "outputs": [],
   "source": [
    "col_meta[col_meta[\"pathogen\"].notnull()][\"pathogen\"].unique()"
   ]
  },
  {
   "cell_type": "code",
   "execution_count": null,
   "id": "3e5a8f24-d303-40b0-a778-1f1465a26185",
   "metadata": {},
   "outputs": [],
   "source": [
    "pathogens = col_meta[col_meta[\"pathogen\"].notnull()][\"pathogen\"].unique()\n",
    "pathogens"
   ]
  },
  {
   "cell_type": "code",
   "execution_count": null,
   "id": "81d71a03-d1d6-4fba-b998-864e5f112015",
   "metadata": {},
   "outputs": [],
   "source": [
    "# Identify pathogen-related columns\n",
    "pathogen_cols = col_meta.dropna(subset=[\"pathogen\"])[[\"column\", \"pathogen\"]]\n",
    "\n",
    "# Filter columns that exist in data_df\n",
    "valid_pathogen_cols = [col for col in pathogen_cols[\"column\"] if col in data_df.columns]\n",
    "\n",
    "# Exclude columns with string values and alert the user\n",
    "excluded_cols = []\n",
    "numeric_cols = []\n",
    "for col in valid_pathogen_cols:\n",
    "    if data_df[col].dtype == object:  # Checking for string-type columns\n",
    "        pathogen = pathogen_cols.loc[pathogen_cols[\"column\"] == col, \"pathogen\"].values[0]\n",
    "        excluded_cols.append((col, pathogen))\n",
    "    else:\n",
    "        numeric_cols.append(col)\n",
    "\n",
    "# Print excluded columns with pathogen information\n",
    "if excluded_cols:\n",
    "    print(\"The following columns were excluded due to containing string values:\")\n",
    "    for col, pathogen in excluded_cols:\n",
    "        print(f\"- Column: {col}, Pathogen: {pathogen}\")\n",
    "\n",
    "# Proceed only with numeric columns\n",
    "pathogen_data = data_df[numeric_cols]\n",
    "\n",
    "# Summarize counts (assuming categorical data; adjust if numeric)\n",
    "summary_df = pathogen_data.apply(pd.Series.value_counts).fillna(0).astype(int)\n",
    "\n",
    "# Create stacked bar plot if there are valid numeric columns\n",
    "if not summary_df.empty:\n",
    "    plt.figure(figsize=(12, 6))\n",
    "    summary_df.T.plot(kind='bar', stacked=True, colormap=\"Reds\", figsize=(12, 6))\n",
    "\n",
    "    # Customize plot\n",
    "    plt.xlabel(\"Pathogen Columns\")\n",
    "    plt.ylabel(\"Count\")\n",
    "    plt.title(\"Stacked Bar Plot of Pathogen-Related Columns in data_df\")\n",
    "    plt.legend(title=\"Values\", bbox_to_anchor=(1, 1))\n",
    "\n",
    "    plt.tight_layout()\n",
    "    plt.show()\n",
    "else:\n",
    "    print(\"No numeric pathogen-related columns available for plotting.\")"
   ]
  },
  {
   "cell_type": "code",
   "execution_count": null,
   "id": "833220b7-b7db-42e7-a02e-feda8599cd96",
   "metadata": {},
   "outputs": [],
   "source": [
    "list(dict_df[dict_df['Variable / Field Name']=='lassa_pcr']['Choices, Calculations, OR Slider Labels'])"
   ]
  },
  {
   "cell_type": "markdown",
   "id": "af24994c-ae85-452d-a190-744325f0ebe4",
   "metadata": {},
   "source": [
    "### Create positive/negative labels for each pathogen and remove all pathogen-related columns"
   ]
  },
  {
   "cell_type": "code",
   "execution_count": null,
   "id": "0e172134-45a7-4cd5-bf0e-6fdb901c3717",
   "metadata": {},
   "outputs": [],
   "source": [
    "# Create positive/negative labels for each pathogen and remove all pathogen-related columns from feature space\n",
    "pos_neg_nums = {}\n",
    "data_df_clean_pathogen = data_df.copy()\n",
    "skipped_pathogens = []\n",
    "for pathogen in pathogens:\n",
    "    # Subset data for each pathogen based on col_meta\n",
    "    pathogen_cols = col_meta[col_meta[\"pathogen\"] == pathogen][\"column\"].values\n",
    "    diagnosis_cols = col_meta[col_meta[\"pathogen_use_clean\"] == 1][\"column\"].values\n",
    "\n",
    "    if include_carmen:\n",
    "        pathogen_diagnosis_cols = [item for item in pathogen_cols if item in diagnosis_cols]\n",
    "    else:\n",
    "        pathogen_diagnosis_cols = [item for item in pathogen_cols if item in diagnosis_cols and \"carmen\" not in item]\n",
    "\n",
    "    if len(pathogen_diagnosis_cols) > 0:\n",
    "        condition_1 = (data_df_clean_pathogen[pathogen_diagnosis_cols] == 1).any(axis=1)\n",
    "        condition_2 = (data_df_clean_pathogen[pathogen_diagnosis_cols] == 2).any(axis=1)\n",
    "    \n",
    "        # Assigns labels: 0 = Negative, 1 = Positive, 2 = No result\n",
    "        # Label is 1 if any relevant column equals 1\n",
    "        # Label is 0 if any relevant column equals 2 (and none are 1)\n",
    "        data_df_clean_pathogen[f\"{pathogen}_label\"] = np.select(\n",
    "                [condition_1, condition_2], [1, 0], default=2\n",
    "            )\n",
    "    \n",
    "        # Save number of confirmed positive and negative cases\n",
    "        pos_num = len(data_df_clean_pathogen[data_df_clean_pathogen[f'{pathogen}_label'] == 1])\n",
    "        neg_num = len(data_df_clean_pathogen[data_df_clean_pathogen[f'{pathogen}_label'] == 0])\n",
    "        print(f\"{pathogen} Pos: {pos_num}\")\n",
    "        print(f\"{pathogen} Neg: {neg_num}\")\n",
    "        pos_neg_nums[pathogen] = [pos_num, neg_num]\n",
    "\n",
    "    else:\n",
    "        skipped_pathogens.append(pathogen)\n",
    "        print(f\"{pathogen} skipped because no diagnosis columns were found\")\n",
    "\n",
    "# Drop all original pathogen test columns from the feature space\n",
    "all_pathogen_cols = col_meta[col_meta[\"pathogen\"].notnull()][\"column\"].values\n",
    "pathogen_cols_to_drop = [col for col in all_pathogen_cols if col in data_df_clean_pathogen.columns]\n",
    "\n",
    "data_df_clean_pathogen = data_df_clean_pathogen.drop(columns=pathogen_cols_to_drop)"
   ]
  },
  {
   "cell_type": "markdown",
   "id": "a17ebba1-8f36-4a55-9b6d-86a5cf227035",
   "metadata": {},
   "source": [
    "### Plot number of positive/negative per pathogen:"
   ]
  },
  {
   "cell_type": "code",
   "execution_count": null,
   "id": "8f885ffe-83f3-46cd-87cd-c3f03ecb4d86",
   "metadata": {},
   "outputs": [],
   "source": [
    "# Extract pathogen names and their corresponding counts\n",
    "path_df = pd.DataFrame()\n",
    "path_df['pathogen'] = list(pos_neg_nums.keys())\n",
    "path_df['pos_count'] = [pos_neg_nums[p][0] for p in pathogens if p not in skipped_pathogens]\n",
    "path_df['neg_count'] = [pos_neg_nums[p][1] for p in pathogens if p not in skipped_pathogens]\n",
    "path_df = path_df.sort_values(['pos_count', 'neg_count'], ascending=False) \n",
    "\n",
    "pathogens_plot = path_df['pathogen']\n",
    "pos_counts = path_df['pos_count']\n",
    "neg_counts = path_df['neg_count']\n",
    "\n",
    "# Set bar width and positions\n",
    "bar_width = 0.4\n",
    "x = np.arange(len(pathogens_plot))\n",
    "\n",
    "# Create bar plot\n",
    "fig, ax = plt.subplots(figsize=(12, 5))\n",
    "\n",
    "bars_pos = ax.bar(x - bar_width/2, pos_counts, bar_width, label=\"Positive\", color=\"red\")\n",
    "bars_neg = ax.bar(x + bar_width/2, neg_counts, bar_width, label=\"Negative\", color=\"lightgrey\")\n",
    "\n",
    "# Labeling\n",
    "ax.set_xticks(x)\n",
    "ax.set_xticklabels(pathogens_plot, rotation=30, ha=\"right\")\n",
    "ax.set_ylabel(\"Sample Count\")\n",
    "ax.set_title(\"# Confirmed Positive & Negative Samples per Pathogen\")\n",
    "# ax.legend(loc='upper left', bbox_to_anchor=(1, 1)) # legend outside plot\n",
    "ax.legend(loc='upper right')\n",
    "ax.margins(x=0.01)\n",
    "\n",
    "# Add the number above each bar\n",
    "for bar in bars_pos:\n",
    "    yval = bar.get_height()\n",
    "    ax.text(bar.get_x() + bar.get_width()/2, yval + 200, f'{int(yval):,}', ha='center', va='bottom', rotation=90, fontsize=8)\n",
    "for bar in bars_neg:\n",
    "    yval = bar.get_height()\n",
    "    ax.text(bar.get_x() + bar.get_width()/2, yval + 200, f'{int(yval):,}', ha='center', va='bottom', rotation=90, fontsize=8)\n",
    "\n",
    "ax.grid(True, axis='y',  color=\"lightgrey\", ls=\"--\", lw=1)\n",
    "ax.set_axisbelow(True)\n",
    "\n",
    "ax.set_ylim(top=15500)\n",
    "\n",
    "fig.savefig(\"figures/1_sample_nums_per_pathogen.png\", dpi=300, bbox_inches=\"tight\")\n",
    "\n",
    "plt.show()"
   ]
  },
  {
   "cell_type": "code",
   "execution_count": null,
   "id": "f13b6eba",
   "metadata": {},
   "outputs": [],
   "source": [
    "# Extract pathogen names and their corresponding counts, excluding pathogens with 0 confirmed positive AND 0 negative tests\n",
    "pathogen_data = []\n",
    "for p in pathogens:\n",
    "    if p not in skipped_pathogens:\n",
    "        pos_count = pos_neg_nums[p][0]\n",
    "        neg_count = pos_neg_nums[p][1]\n",
    "        # Only include if at least one positive or negative\n",
    "        if (pos_count > 0) or (neg_count > 0):\n",
    "            pathogen_data.append({'pathogen': p, 'pos_count': pos_count, 'neg_count': neg_count})\n",
    "\n",
    "path_df = pd.DataFrame(pathogen_data)\n",
    "path_df = path_df.sort_values(['pos_count', 'neg_count'], ascending=False)\n",
    "\n",
    "pathogens_plot = path_df['pathogen']\n",
    "pos_counts = path_df['pos_count']\n",
    "neg_counts = path_df['neg_count']\n",
    "\n",
    "# Set bar width and positions\n",
    "bar_width = 0.4\n",
    "x = np.arange(len(pathogens_plot))\n",
    "\n",
    "# Create bar plot\n",
    "fig, ax = plt.subplots(figsize=(12, 4.5))\n",
    "\n",
    "bars_pos = ax.bar(x - bar_width/2, pos_counts, bar_width, label=\"Positive\", color=\"red\")\n",
    "bars_neg = ax.bar(x + bar_width/2, neg_counts, bar_width, label=\"Negative\", color=\"lightgrey\")\n",
    "\n",
    "# Labeling\n",
    "ax.set_xticks(x)\n",
    "ax.set_xticklabels(pathogens_plot, rotation=30, ha=\"right\")\n",
    "ax.set_ylabel(\"Sample Count\")\n",
    "ax.set_title(\"# Confirmed Positive & Negative Samples per Pathogen\")\n",
    "# ax.legend(loc='upper left', bbox_to_anchor=(1, 1)) # legend outside plot\n",
    "ax.legend(loc='upper right')\n",
    "ax.margins(x=0.01)\n",
    "\n",
    "# Add the number above each bar\n",
    "for bar in bars_pos:\n",
    "    yval = bar.get_height()\n",
    "    ax.text(bar.get_x() + bar.get_width()/2, yval + 200, f'{int(yval):,}', ha='center', va='bottom', rotation=90, fontsize=8)\n",
    "for bar in bars_neg:\n",
    "    yval = bar.get_height()\n",
    "    ax.text(bar.get_x() + bar.get_width()/2, yval + 200, f'{int(yval):,}', ha='center', va='bottom', rotation=90, fontsize=8)\n",
    "\n",
    "ax.grid(True, axis='y',  color=\"lightgrey\", ls=\"--\", lw=1)\n",
    "ax.set_axisbelow(True)\n",
    "\n",
    "ax.set_ylim(top=15500)\n",
    "\n",
    "fig.savefig(\"figures/1_sample_nums_per_pathogen_short.png\", dpi=300, bbox_inches=\"tight\")\n",
    "\n",
    "plt.show()"
   ]
  },
  {
   "cell_type": "markdown",
   "id": "a838c874-57e6-430d-bb1d-c4594813bcdd",
   "metadata": {},
   "source": [
    "___\n",
    "\n",
    "# Plot features"
   ]
  },
  {
   "cell_type": "code",
   "execution_count": null,
   "id": "62810f79-289d-4f3f-be93-83bd5526912b",
   "metadata": {},
   "outputs": [],
   "source": [
    "def plot_histogram(data_df, pathogen, feature, symlog=False):\n",
    "    fig, ax = plt.subplots(figsize=(10, 5))\n",
    "    fontsize = 12\n",
    "\n",
    "    data_df_temp = data_df.copy()\n",
    "\n",
    "    if feature == \"date_crf\":\n",
    "        data_df_temp[feature] = pd.to_datetime(data_df_temp[feature], errors='coerce')\n",
    "\n",
    "    # Map numeric labels to readable categories\n",
    "    label_col = f\"{pathogen}_label\"\n",
    "    data_df_temp[label_col] = data_df_temp[label_col].map({1: \"positive\", 0: \"negative\", 2: \"undefined\"})\n",
    "\n",
    "    # Define color palette\n",
    "    palette = {\"positive\": \"red\", \"negative\": \"black\", \"undefined\": \"grey\"}\n",
    "\n",
    "    # Plot stacked histogram\n",
    "    sns.histplot(\n",
    "        data=data_df_temp,\n",
    "        x=feature,\n",
    "        hue=label_col,\n",
    "        bins=70,\n",
    "        element='bars',\n",
    "        multiple='stack',\n",
    "        stat='count',  # Use 'proportion' for normalized values\n",
    "        palette=palette,\n",
    "        ax=ax,\n",
    "        lw=0,\n",
    "        alpha=0.7\n",
    "    )\n",
    "\n",
    "    # Axis labels and formatting\n",
    "    ax.set_xlabel(feature, fontsize=fontsize)\n",
    "    ax.set_ylabel(\"Sample count\", fontsize=fontsize)\n",
    "    ax.margins(x=0.01)\n",
    "    ax.grid(True, axis='y', color=\"lightgrey\", ls=\"--\", lw=1)\n",
    "    ax.set_axisbelow(True)\n",
    "\n",
    "    if symlog:\n",
    "        ax.set_yscale(\"symlog\")\n",
    "\n",
    "    if feature == \"date_crf\":\n",
    "        # Format x-axis by month\n",
    "        ax.xaxis.set_major_locator(mdates.MonthLocator())\n",
    "        ax.xaxis.set_major_formatter(mdates.DateFormatter('%b %Y'))\n",
    "        plt.setp(ax.get_xticklabels(), rotation=45, ha='right', fontsize=fontsize-2)\n",
    "\n",
    "    # Legend\n",
    "    # ax.legend(title=\"Infection Status\", fontsize=fontsize)\n",
    "    plt.tight_layout()\n",
    "\n",
    "    fig.savefig(f\"figures/1_{pathogen}_{feature}_stacked.png\", dpi=300, bbox_inches=\"tight\")\n",
    "    plt.show()"
   ]
  },
  {
   "cell_type": "code",
   "execution_count": null,
   "id": "73521075-f218-49bd-9466-da880b8d1be8",
   "metadata": {},
   "outputs": [],
   "source": [
    "feature = \"date_crf\"\n",
    "pathogen = \"Malaria\"\n",
    "\n",
    "# Only plot recent samples\n",
    "df_to_plot = data_df_clean_pathogen[\n",
    "    pd.to_datetime(data_df_clean_pathogen[feature], errors='coerce') > pd.to_datetime(\"2022-01-01\")\n",
    "].copy()\n",
    "\n",
    "plot_histogram(df_to_plot, pathogen, feature)"
   ]
  },
  {
   "cell_type": "code",
   "execution_count": null,
   "id": "1aa40f46-1c79-4f0f-b2af-2c415255ce36",
   "metadata": {},
   "outputs": [],
   "source": [
    "feature = \"temperature\"\n",
    "pathogen = \"Malaria\"\n",
    "\n",
    "plot_histogram(data_df_clean_pathogen, pathogen, feature, symlog=True)"
   ]
  },
  {
   "cell_type": "code",
   "execution_count": null,
   "id": "048830da-c3dc-41db-bb6b-89abef8298a0",
   "metadata": {},
   "outputs": [],
   "source": [
    "def convert_to_celsius(temp):\n",
    "    try:\n",
    "        temp = float(temp)\n",
    "    except:\n",
    "        return np.nan\n",
    "\n",
    "    converted = None\n",
    "\n",
    "    # Celsius ×10 (common in clinical data)\n",
    "    if 300 <= temp <= 450:\n",
    "        converted = temp / 10\n",
    "\n",
    "    # Normal Celsius range\n",
    "    elif 30 <= temp <= 45:\n",
    "        converted = temp\n",
    "\n",
    "    # Fahrenheit range\n",
    "    elif 80 <= temp <= 120:\n",
    "        converted = (temp - 32) * 5 / 9\n",
    "\n",
    "    # Kelvin range\n",
    "    elif 305 <= temp <= 320:\n",
    "        converted = temp - 273.15\n",
    "\n",
    "    # Final validity check\n",
    "    if converted is not None and 30 <= converted <= 45:\n",
    "        return converted\n",
    "    else:\n",
    "        return np.nan"
   ]
  },
  {
   "cell_type": "code",
   "execution_count": null,
   "id": "c5d05263-6007-4aa7-a04a-14b517771fc1",
   "metadata": {},
   "outputs": [],
   "source": [
    "data_df_clean_pathogen[\"temperature\"] = data_df_clean_pathogen[\"temperature\"].apply(convert_to_celsius)"
   ]
  },
  {
   "cell_type": "code",
   "execution_count": null,
   "id": "04a1cc12-b0e3-48f4-8ef0-123d7cb3f4c1",
   "metadata": {},
   "outputs": [],
   "source": [
    "feature = \"temperature\"\n",
    "pathogen = \"Malaria\"\n",
    "\n",
    "plot_histogram(data_df_clean_pathogen, pathogen, feature, symlog=True)"
   ]
  },
  {
   "cell_type": "markdown",
   "id": "ec528983-76f4-4074-a204-8f43ecdf0d1b",
   "metadata": {},
   "source": [
    "___\n",
    "# Save clean data"
   ]
  },
  {
   "cell_type": "code",
   "execution_count": null,
   "id": "9b693ed4-0bb5-4746-a1e7-6da189485a50",
   "metadata": {},
   "outputs": [],
   "source": [
    "import json\n",
    "\n",
    "with open(f\"XXX.json\", \"w\") as f:\n",
    "    json.dump(pos_neg_nums, f, indent=2)"
   ]
  },
  {
   "cell_type": "code",
   "execution_count": null,
   "id": "480422dc-e962-4c64-a9fe-9da28c04ae4d",
   "metadata": {},
   "outputs": [],
   "source": [
    "data_df_clean_pathogen.to_csv(f\"XXX\", index=False)"
   ]
  },
  {
   "cell_type": "markdown",
   "id": "5d43eaba-0d0a-40ea-baa0-dc1053b07cb7",
   "metadata": {},
   "source": [
    "Record deleted columns:"
   ]
  },
  {
   "cell_type": "code",
   "execution_count": null,
   "id": "77dd8a30-045a-48a2-adf0-d1129e5d5273",
   "metadata": {},
   "outputs": [],
   "source": [
    "# Compare raw to cleaned data\n",
    "# df1_cols = set(data_df_raw.columns)\n",
    "df1_cols = set(col_meta['column'].values)\n",
    "df2_cols = set(data_df_clean_pathogen.columns)\n",
    "\n",
    "only_in_df1 = df1_cols - df2_cols\n",
    "only_in_df2 = df2_cols - df1_cols\n",
    "\n",
    "print(\"Columns only in raw data:\")\n",
    "print(sorted(only_in_df1))\n",
    "\n",
    "print(\"\\nColumns only in clean data:\")\n",
    "print(sorted(only_in_df2))"
   ]
  },
  {
   "cell_type": "code",
   "execution_count": null,
   "id": "259ac64f-4cde-4677-a4b9-a8830f7f52a5",
   "metadata": {},
   "outputs": [],
   "source": [
    "# Set final_delete column to 1 if columns was deleted\n",
    "col_meta.loc[col_meta['column'].isin(only_in_df1), 'final_delete'] = 1"
   ]
  },
  {
   "cell_type": "code",
   "execution_count": null,
   "id": "d65a4efd-9183-437e-82af-cf4bffde4026",
   "metadata": {},
   "outputs": [],
   "source": [
    "col_meta.to_csv(\"../data_small/pathogen_metadata.csv\", index=False)"
   ]
  },
  {
   "cell_type": "markdown",
   "id": "37ed9e43-523b-4b43-beb0-dcf37715e4fe",
   "metadata": {},
   "source": [
    "Note: Manually transfer the final_delete to Google sheet if changed"
   ]
  },
  {
   "cell_type": "code",
   "execution_count": null,
   "id": "a05ef6af-900b-4ff3-8c16-eab64db3e7f8",
   "metadata": {},
   "outputs": [],
   "source": []
  },
  {
   "cell_type": "code",
   "execution_count": null,
   "id": "e3c306d5-830d-4022-90c4-68870477743d",
   "metadata": {},
   "outputs": [],
   "source": []
  },
  {
   "cell_type": "code",
   "execution_count": null,
   "id": "09936201-74ec-4392-971e-8b8e85f1ea17",
   "metadata": {},
   "outputs": [],
   "source": []
  }
 ],
 "metadata": {
  "kernelspec": {
   "display_name": ".venv_07",
   "language": "python",
   "name": "python3"
  },
  "language_info": {
   "codemirror_mode": {
    "name": "ipython",
    "version": 3
   },
   "file_extension": ".py",
   "mimetype": "text/x-python",
   "name": "python",
   "nbconvert_exporter": "python",
   "pygments_lexer": "ipython3",
   "version": "3.12.11"
  }
 },
 "nbformat": 4,
 "nbformat_minor": 5
}
